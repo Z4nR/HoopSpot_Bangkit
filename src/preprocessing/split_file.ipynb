{
 "metadata": {
  "language_info": {
   "codemirror_mode": {
    "name": "ipython",
    "version": 3
   },
   "file_extension": ".py",
   "mimetype": "text/x-python",
   "name": "python",
   "nbconvert_exporter": "python",
   "pygments_lexer": "ipython3",
   "version": "3.9.2"
  },
  "orig_nbformat": 2,
  "kernelspec": {
   "name": "python392jvsc74a57bd0038846c5b417ce3a2585a99fde09366da536b9c387ab78e2bb36f99a67b12597",
   "display_name": "Python 3.9.2 64-bit"
  },
  "metadata": {
   "interpreter": {
    "hash": "038846c5b417ce3a2585a99fde09366da536b9c387ab78e2bb36f99a67b12597"
   }
  }
 },
 "nbformat": 4,
 "nbformat_minor": 2,
 "cells": [
  {
   "cell_type": "code",
   "execution_count": 1,
   "metadata": {},
   "outputs": [],
   "source": [
    "import os\n",
    "import shutil\n",
    "import numpy as np\n",
    "import random\n"
   ]
  },
  {
   "cell_type": "code",
   "execution_count": 2,
   "metadata": {},
   "outputs": [
    {
     "output_type": "stream",
     "name": "stdout",
     "text": [
      "failed\nfailed\nfailed\nfailed\nfailed\nfailed\n"
     ]
    }
   ],
   "source": [
    "directory =['D:/bangkit/ml/tensorflow/projrct final/dataset_private/train',\n",
    "            'D:/bangkit/ml/tensorflow/projrct final/dataset_private/val',\n",
    "            'D:/bangkit/ml/tensorflow/projrct final/dataset_private/train/free',\n",
    "            'D:/bangkit/ml/tensorflow/projrct final/dataset_private/train/occ/',\n",
    "            'D:/bangkit/ml/tensorflow/projrct final/dataset_private/val/free',\n",
    "            'D:/bangkit/ml/tensorflow/projrct final/dataset_private/val/occ']\n",
    "\n",
    "for dir in directory:\n",
    "    try:\n",
    "        os.mkdir(dir)\n",
    "        print('successfully create directory : {}'.format(d))\n",
    "    except OSError:\n",
    "        print('failed')"
   ]
  },
  {
   "cell_type": "code",
   "execution_count": 3,
   "metadata": {},
   "outputs": [],
   "source": [
    "def split_train_val_data(src, training, validation, split_size=0.8):\n",
    "    image = []\n",
    "\n",
    "    for name_file in os.listdir(src):\n",
    "        pathFile = src + name_file\n",
    "        if os.path.getsize(pathFile):\n",
    "            image.append(name_file)\n",
    "        \n",
    "    len_of_img = len(image)\n",
    "    size = int(len_of_img * split_size)\n",
    "    randoms = random.sample(image, len_of_img)\n",
    "    \n",
    "    train_random = randoms[:size]\n",
    "    val_random = randoms[size:]\n",
    "\n",
    "    for t in train_random:\n",
    "        shutil.copyfile(src + t, training + t)\n",
    "    \n",
    "    for v in val_random:\n",
    "        shutil.copyfile(src + v, validation + v)\n"
   ]
  },
  {
   "cell_type": "code",
   "execution_count": 4,
   "metadata": {},
   "outputs": [],
   "source": [
    "# directory to split data\n",
    "\n",
    "img_free = 'D:/bangkit/ml/tensorflow/projrct final/segmented/free/'\n",
    "img_occ ='D:/bangkit/ml/tensorflow/projrct final/segmented/occupied/'\n",
    "\n",
    "dir_train_free = 'D:/bangkit/ml/tensorflow/projrct final/dataset_private/train/free/'\n",
    "dir_train_occ = 'D:/bangkit/ml/tensorflow/projrct final/dataset_private/train/occ/'\n",
    "\n",
    "dir_val_free ='D:/bangkit/ml/tensorflow/projrct final/dataset_private/val/free/'\n",
    "dir_val_occ = 'D:/bangkit/ml/tensorflow/projrct final/dataset_private/val/occ/'"
   ]
  },
  {
   "cell_type": "code",
   "execution_count": 6,
   "metadata": {},
   "outputs": [],
   "source": [
    "split_train_val_data(img_free, dir_train_free, dir_val_occ)\n",
    "split_train_val_data(img_occ, dir_train_occ, dir_val_occ)"
   ]
  },
  {
   "cell_type": "code",
   "execution_count": null,
   "metadata": {},
   "outputs": [],
   "source": []
  }
 ]
}
